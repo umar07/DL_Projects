{
 "cells": [
  {
   "cell_type": "code",
   "execution_count": 1,
   "metadata": {},
   "outputs": [],
   "source": [
    "import numpy as np\n",
    "import pandas as pd\n",
    "import os\n",
    "import cv2\n",
    "import matplotlib.pyplot as plt\n",
    "import tensorflow as tf\n",
    "from tensorflow import keras\n",
    "from keras.optimizers import SGD\n",
    "from tensorflow.keras.preprocessing.image import ImageDataGenerator\n",
    "from keras.applications.inception_v3 import InceptionV3"
   ]
  },
  {
   "cell_type": "code",
   "execution_count": 2,
   "metadata": {},
   "outputs": [],
   "source": [
    "#multi-label binarization\n",
    "#splitting multiple labels and getting a list\n",
    "\n",
    "df = pd.read_csv(\"/home/umar/ML-AI/datasets/plant-pathology-2021-fgvc8/train.csv\")\n",
    "df[\"labels\"]=df[\"labels\"].apply(lambda x:x.split(\" \")) \n",
    "\n",
    "train_path='/home/umar/ML-AI/datasets/plant-pathology-2021-fgvc8/train_images'"
   ]
  },
  {
   "cell_type": "code",
   "execution_count": 3,
   "metadata": {},
   "outputs": [
    {
     "name": "stdout",
     "output_type": "stream",
     "text": [
      "Found 16000 validated image filenames belonging to 6 classes.\n",
      "Found 2632 validated image filenames belonging to 6 classes.\n",
      "{'complex': 0, 'frog_eye_leaf_spot': 1, 'healthy': 2, 'powdery_mildew': 3, 'rust': 4, 'scab': 5}\n"
     ]
    }
   ],
   "source": [
    "img_size=(128,128)\n",
    "\n",
    "datagen = ImageDataGenerator(\n",
    "    rescale=1./255,\n",
    "    zoom_range=0.2,\n",
    "    horizontal_flip=True\n",
    ")\n",
    "\n",
    "train_generator=datagen.flow_from_dataframe(\n",
    "dataframe=df[:16000],\n",
    "directory=train_path,\n",
    "x_col=\"image\",\n",
    "y_col=\"labels\",\n",
    "batch_size=64,\n",
    "seed=42,\n",
    "shuffle=True,\n",
    "class_mode=\"categorical\",\n",
    "target_size=img_size)\n",
    "\n",
    "val_generator=datagen.flow_from_dataframe(\n",
    "dataframe=df[16000:],\n",
    "directory=train_path,\n",
    "x_col=\"image\",\n",
    "y_col=\"labels\",\n",
    "batch_size=64,\n",
    "seed=42,\n",
    "shuffle=True,\n",
    "class_mode=\"categorical\",\n",
    "target_size=img_size)\n",
    "\n",
    "print(train_generator.class_indices)"
   ]
  },
  {
   "cell_type": "code",
   "execution_count": 4,
   "metadata": {},
   "outputs": [],
   "source": [
    "model_pretrained = InceptionV3(weights='imagenet', \n",
    "                      include_top=False, \n",
    "                      input_shape=(128,128,3))\n",
    "\n",
    "model=keras.models.Sequential()\n",
    "model.add(model_pretrained)\n",
    "model.add(keras.layers.Flatten())\n",
    "model.add(keras.layers.Dense(300, activation=\"relu\"))\n",
    "model.add(keras.layers.Dropout(0.2))\n",
    "model.add(keras.layers.Dense(100,activation='relu'))\n",
    "model.add(keras.layers.Dropout(0.2))\n",
    "model.add(keras.layers.Dense(6,activation=\"sigmoid\"))"
   ]
  },
  {
   "cell_type": "code",
   "execution_count": 5,
   "metadata": {},
   "outputs": [
    {
     "name": "stdout",
     "output_type": "stream",
     "text": [
      "Model: \"sequential\"\n",
      "_________________________________________________________________\n",
      "Layer (type)                 Output Shape              Param #   \n",
      "=================================================================\n",
      "inception_v3 (Functional)    (None, 2, 2, 2048)        21802784  \n",
      "_________________________________________________________________\n",
      "flatten (Flatten)            (None, 8192)              0         \n",
      "_________________________________________________________________\n",
      "dense (Dense)                (None, 300)               2457900   \n",
      "_________________________________________________________________\n",
      "dropout (Dropout)            (None, 300)               0         \n",
      "_________________________________________________________________\n",
      "dense_1 (Dense)              (None, 100)               30100     \n",
      "_________________________________________________________________\n",
      "dropout_1 (Dropout)          (None, 100)               0         \n",
      "_________________________________________________________________\n",
      "dense_2 (Dense)              (None, 6)                 606       \n",
      "=================================================================\n",
      "Total params: 24,291,390\n",
      "Trainable params: 24,256,958\n",
      "Non-trainable params: 34,432\n",
      "_________________________________________________________________\n"
     ]
    }
   ],
   "source": [
    "model.summary()"
   ]
  },
  {
   "cell_type": "code",
   "execution_count": 6,
   "metadata": {},
   "outputs": [],
   "source": [
    "# Time based learning rate scheduling\n",
    "epoch=50\n",
    "learning_rate=0.01\n",
    "decay_rate=learning_rate/epoch\n",
    "momentum=0.8\n",
    "sgd=SGD(lr=learning_rate,momentum=momentum,decay=decay_rate)"
   ]
  },
  {
   "cell_type": "code",
   "execution_count": 7,
   "metadata": {},
   "outputs": [],
   "source": [
    "# Early stopping callback\n",
    "callback = keras.callbacks.EarlyStopping(monitor='val_loss', patience=3)"
   ]
  },
  {
   "cell_type": "code",
   "execution_count": 8,
   "metadata": {},
   "outputs": [],
   "source": [
    "model.compile(loss='binary_crossentropy',\n",
    "              optimizer='sgd',\n",
    "              metrics=[tf.keras.metrics.Precision()])"
   ]
  },
  {
   "cell_type": "code",
   "execution_count": 9,
   "metadata": {},
   "outputs": [
    {
     "name": "stdout",
     "output_type": "stream",
     "text": [
      "Epoch 1/50\n",
      "250/250 [==============================] - 3220s 13s/step - loss: 0.5139 - precision: 0.2682 - val_loss: 0.4174 - val_precision: 0.7234\n",
      "Epoch 2/50\n",
      "250/250 [==============================] - 3197s 13s/step - loss: 0.4213 - precision: 0.5309 - val_loss: 0.3640 - val_precision: 0.6881\n",
      "Epoch 3/50\n",
      "250/250 [==============================] - 3315s 13s/step - loss: 0.3535 - precision: 0.6679 - val_loss: 0.2968 - val_precision: 0.7370\n",
      "Epoch 4/50\n",
      "250/250 [==============================] - 3166s 13s/step - loss: 0.2931 - precision: 0.7394 - val_loss: 0.2550 - val_precision: 0.7705\n",
      "Epoch 5/50\n",
      "250/250 [==============================] - 3165s 13s/step - loss: 0.2522 - precision: 0.7756 - val_loss: 0.2211 - val_precision: 0.8005\n",
      "Epoch 6/50\n",
      "250/250 [==============================] - 3162s 13s/step - loss: 0.2259 - precision: 0.8007 - val_loss: 0.2101 - val_precision: 0.8078\n",
      "Epoch 7/50\n",
      "250/250 [==============================] - 3163s 13s/step - loss: 0.2093 - precision: 0.8135 - val_loss: 0.1932 - val_precision: 0.8231\n",
      "Epoch 8/50\n",
      "250/250 [==============================] - 3167s 13s/step - loss: 0.1908 - precision: 0.8285 - val_loss: 0.1846 - val_precision: 0.8322\n",
      "Epoch 9/50\n",
      "250/250 [==============================] - 3163s 13s/step - loss: 0.1818 - precision: 0.8371 - val_loss: 0.1788 - val_precision: 0.8401\n",
      "Epoch 10/50\n",
      "250/250 [==============================] - 3161s 13s/step - loss: 0.1689 - precision: 0.8526 - val_loss: 0.1743 - val_precision: 0.8412\n",
      "Epoch 11/50\n",
      "250/250 [==============================] - 3160s 13s/step - loss: 0.1591 - precision: 0.8602 - val_loss: 0.1661 - val_precision: 0.8478\n",
      "Epoch 12/50\n",
      "250/250 [==============================] - 3160s 13s/step - loss: 0.1577 - precision: 0.8577 - val_loss: 0.1592 - val_precision: 0.8552\n",
      "Epoch 13/50\n",
      "250/250 [==============================] - 3164s 13s/step - loss: 0.1531 - precision: 0.8672 - val_loss: 0.1585 - val_precision: 0.8529\n",
      "Epoch 14/50\n",
      "250/250 [==============================] - 3259s 13s/step - loss: 0.1412 - precision: 0.8737 - val_loss: 0.1579 - val_precision: 0.8570\n",
      "Epoch 15/50\n",
      "250/250 [==============================] - 3438s 14s/step - loss: 0.1357 - precision: 0.8785 - val_loss: 0.1538 - val_precision: 0.8664\n",
      "Epoch 16/50\n",
      "250/250 [==============================] - 3421s 14s/step - loss: 0.1383 - precision: 0.8787 - val_loss: 0.1510 - val_precision: 0.8646\n",
      "Epoch 17/50\n",
      "250/250 [==============================] - 3580s 14s/step - loss: 0.1331 - precision: 0.8786 - val_loss: 0.1455 - val_precision: 0.8734\n",
      "Epoch 18/50\n",
      "250/250 [==============================] - 3385s 14s/step - loss: 0.1203 - precision: 0.8898 - val_loss: 0.1472 - val_precision: 0.8714\n",
      "Epoch 19/50\n",
      "250/250 [==============================] - 3163s 13s/step - loss: 0.1207 - precision: 0.8896 - val_loss: 0.1476 - val_precision: 0.8685\n",
      "Epoch 20/50\n",
      "250/250 [==============================] - 3164s 13s/step - loss: 0.1155 - precision: 0.9008 - val_loss: 0.1503 - val_precision: 0.8642\n"
     ]
    }
   ],
   "source": [
    "model_history=model.fit(train_generator,epochs=epoch,validation_data=val_generator,shuffle=True, callbacks=[callback])"
   ]
  },
  {
   "cell_type": "code",
   "execution_count": 10,
   "metadata": {},
   "outputs": [
    {
     "data": {
      "image/png": "[encoded data removed]",
      "text/plain": [
       "<Figure size 576x360 with 1 Axes>"
      ]
     },
     "metadata": {
      "needs_background": "light"
     },
     "output_type": "display_data"
    }
   ],
   "source": [
    "# plotting the varoius metrics\n",
    "pd.DataFrame(model_history.history).plot(figsize=(8,5))\n",
    "plt.grid(True)\n",
    "plt.gca().set_ylim(0,1)\n",
    "plt.show()"
   ]
  },
  {
   "cell_type": "code",
   "execution_count": 12,
   "metadata": {},
   "outputs": [
    {
     "data": {
      "text/html": [
       "<div>\n",
       "<style scoped>\n",
       "    .dataframe tbody tr th:only-of-type {\n",
       "        vertical-align: middle;\n",
       "    }\n",
       "\n",
       "    .dataframe tbody tr th {\n",
       "        vertical-align: top;\n",
       "    }\n",
       "\n",
       "    .dataframe thead th {\n",
       "        text-align: right;\n",
       "    }\n",
       "</style>\n",
       "<table border=\"1\" class=\"dataframe\">\n",
       "  <thead>\n",
       "    <tr style=\"text-align: right;\">\n",
       "      <th></th>\n",
       "      <th>image</th>\n",
       "      <th>labels</th>\n",
       "    </tr>\n",
       "  </thead>\n",
       "  <tbody>\n",
       "    <tr>\n",
       "      <th>0</th>\n",
       "      <td>85f8cb619c66b863.jpg</td>\n",
       "      <td>healthy</td>\n",
       "    </tr>\n",
       "    <tr>\n",
       "      <th>1</th>\n",
       "      <td>ad8770db05586b59.jpg</td>\n",
       "      <td>healthy</td>\n",
       "    </tr>\n",
       "    <tr>\n",
       "      <th>2</th>\n",
       "      <td>c7b03e718489f3ca.jpg</td>\n",
       "      <td>healthy</td>\n",
       "    </tr>\n",
       "  </tbody>\n",
       "</table>\n",
       "</div>"
      ],
      "text/plain": [
       "                  image   labels\n",
       "0  85f8cb619c66b863.jpg  healthy\n",
       "1  ad8770db05586b59.jpg  healthy\n",
       "2  c7b03e718489f3ca.jpg  healthy"
      ]
     },
     "execution_count": 12,
     "metadata": {},
     "output_type": "execute_result"
    }
   ],
   "source": [
    "sub_path='/home/umar/ML-AI/datasets/plant-pathology-2021-fgvc8/sample_submission.csv'\n",
    "sample_sub=pd.read_csv(sub_path)\n",
    "sample_sub"
   ]
  },
  {
   "cell_type": "code",
   "execution_count": 16,
   "metadata": {},
   "outputs": [
    {
     "data": {
      "text/html": [
       "<div>\n",
       "<style scoped>\n",
       "    .dataframe tbody tr th:only-of-type {\n",
       "        vertical-align: middle;\n",
       "    }\n",
       "\n",
       "    .dataframe tbody tr th {\n",
       "        vertical-align: top;\n",
       "    }\n",
       "\n",
       "    .dataframe thead th {\n",
       "        text-align: right;\n",
       "    }\n",
       "</style>\n",
       "<table border=\"1\" class=\"dataframe\">\n",
       "  <thead>\n",
       "    <tr style=\"text-align: right;\">\n",
       "      <th></th>\n",
       "      <th>image</th>\n",
       "    </tr>\n",
       "  </thead>\n",
       "  <tbody>\n",
       "    <tr>\n",
       "      <th>0</th>\n",
       "      <td>85f8cb619c66b863.jpg</td>\n",
       "    </tr>\n",
       "    <tr>\n",
       "      <th>1</th>\n",
       "      <td>ad8770db05586b59.jpg</td>\n",
       "    </tr>\n",
       "    <tr>\n",
       "      <th>2</th>\n",
       "      <td>c7b03e718489f3ca.jpg</td>\n",
       "    </tr>\n",
       "  </tbody>\n",
       "</table>\n",
       "</div>"
      ],
      "text/plain": [
       "                  image\n",
       "0  85f8cb619c66b863.jpg\n",
       "1  ad8770db05586b59.jpg\n",
       "2  c7b03e718489f3ca.jpg"
      ]
     },
     "execution_count": 16,
     "metadata": {},
     "output_type": "execute_result"
    }
   ],
   "source": [
    "submission=sample_sub[['image']].copy()\n",
    "submission"
   ]
  },
  {
   "cell_type": "code",
   "execution_count": 18,
   "metadata": {},
   "outputs": [
    {
     "name": "stdout",
     "output_type": "stream",
     "text": [
      "Found 3 validated image filenames.\n"
     ]
    }
   ],
   "source": [
    "test_path='/home/umar/ML-AI/datasets/plant-pathology-2021-fgvc8/test_images'\n",
    "\n",
    "test_generator=datagen.flow_from_dataframe(\n",
    "dataframe=submission,\n",
    "directory=test_path,\n",
    "x_col=\"image\",\n",
    "y_col=None,\n",
    "batch_size=1,\n",
    "seed=42,\n",
    "shuffle=True,\n",
    "class_mode=None,\n",
    "target_size=img_size)"
   ]
  },
  {
   "cell_type": "code",
   "execution_count": 20,
   "metadata": {},
   "outputs": [
    {
     "name": "stdout",
     "output_type": "stream",
     "text": [
      "[[0.3800735  0.68841565 0.00224569 0.00199988 0.04937315 0.1344083 ]\n",
      " [0.75748754 0.27770266 0.01061526 0.0509212  0.04346842 0.26440603]\n",
      " [0.5331157  0.03012496 0.00163168 0.0073669  0.1295901  0.5058284 ]]\n",
      "[[0, 1], [0], [0, 5]]\n"
     ]
    }
   ],
   "source": [
    "prediction = model.predict(test_generator)\n",
    "print(prediction)\n",
    "prediction = prediction.tolist()\n",
    "\n",
    "indices = []\n",
    "for pred in prediction:\n",
    "    temp = []\n",
    "    for category in pred:\n",
    "        if category>=0.35:\n",
    "            temp.append(pred.index(category))\n",
    "    if temp!=[]:\n",
    "        indices.append(temp)\n",
    "    else:\n",
    "        temp.append(np.argmax(pred))\n",
    "        indices.append(temp)\n",
    "    \n",
    "print(indices)"
   ]
  },
  {
   "cell_type": "code",
   "execution_count": 28,
   "metadata": {},
   "outputs": [
    {
     "name": "stdout",
     "output_type": "stream",
     "text": [
      "['complex frog_eye_leaf_spot', 'complex', 'complex scab']\n"
     ]
    }
   ],
   "source": [
    "category=train_generator.class_indices\n",
    "key_list = list(category.keys())\n",
    "result=[]\n",
    "\n",
    "for i in indices:\n",
    "    temp=[]\n",
    "    for j in i:\n",
    "        temp.append(str(key_list[j]))\n",
    "    result.append(' '.join(temp))\n",
    "\n",
    "print(result)"
   ]
  },
  {
   "cell_type": "code",
   "execution_count": 29,
   "metadata": {},
   "outputs": [
    {
     "data": {
      "text/html": [
       "<div>\n",
       "<style scoped>\n",
       "    .dataframe tbody tr th:only-of-type {\n",
       "        vertical-align: middle;\n",
       "    }\n",
       "\n",
       "    .dataframe tbody tr th {\n",
       "        vertical-align: top;\n",
       "    }\n",
       "\n",
       "    .dataframe thead th {\n",
       "        text-align: right;\n",
       "    }\n",
       "</style>\n",
       "<table border=\"1\" class=\"dataframe\">\n",
       "  <thead>\n",
       "    <tr style=\"text-align: right;\">\n",
       "      <th></th>\n",
       "      <th>image</th>\n",
       "      <th>labels</th>\n",
       "    </tr>\n",
       "  </thead>\n",
       "  <tbody>\n",
       "    <tr>\n",
       "      <th>0</th>\n",
       "      <td>85f8cb619c66b863.jpg</td>\n",
       "      <td>complex frog_eye_leaf_spot</td>\n",
       "    </tr>\n",
       "    <tr>\n",
       "      <th>1</th>\n",
       "      <td>ad8770db05586b59.jpg</td>\n",
       "      <td>complex</td>\n",
       "    </tr>\n",
       "    <tr>\n",
       "      <th>2</th>\n",
       "      <td>c7b03e718489f3ca.jpg</td>\n",
       "      <td>complex scab</td>\n",
       "    </tr>\n",
       "  </tbody>\n",
       "</table>\n",
       "</div>"
      ],
      "text/plain": [
       "                  image                      labels\n",
       "0  85f8cb619c66b863.jpg  complex frog_eye_leaf_spot\n",
       "1  ad8770db05586b59.jpg                     complex\n",
       "2  c7b03e718489f3ca.jpg                complex scab"
      ]
     },
     "execution_count": 29,
     "metadata": {},
     "output_type": "execute_result"
    }
   ],
   "source": [
    "submission['labels']=result\n",
    "submission"
   ]
  },
  {
   "cell_type": "code",
   "execution_count": null,
   "metadata": {},
   "outputs": [],
   "source": [
    "# Help taken from-https://www.kaggle.com/arnabs007/apple-leaf-diseases-with-inceptionresnetv2-keras"
   ]
  }
 ],
 "metadata": {
  "kernelspec": {
   "display_name": "Python 3",
   "language": "python",
   "name": "python3"
  },
  "language_info": {
   "codemirror_mode": {
    "name": "ipython",
    "version": 3
   },
   "file_extension": ".py",
   "mimetype": "text/x-python",
   "name": "python",
   "nbconvert_exporter": "python",
   "pygments_lexer": "ipython3",
   "version": "3.6.9"
  }
 },
 "nbformat": 4,
 "nbformat_minor": 4
}
