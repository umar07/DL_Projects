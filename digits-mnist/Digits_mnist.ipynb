{
 "cells": [
  {
   "cell_type": "code",
   "execution_count": 1,
   "metadata": {},
   "outputs": [],
   "source": [
    "import numpy as np\n",
    "import pandas as pd\n",
    "import matplotlib as mlt\n",
    "import matplotlib.pyplot as plt\n",
    "import tensorflow as tf\n",
    "from tensorflow import keras"
   ]
  },
  {
   "cell_type": "code",
   "execution_count": 2,
   "metadata": {},
   "outputs": [
    {
     "name": "stdout",
     "output_type": "stream",
     "text": [
      "Downloading data from https://storage.googleapis.com/tensorflow/tf-keras-datasets/mnist.npz\n",
      "11493376/11490434 [==============================] - 6s 0us/step\n"
     ]
    }
   ],
   "source": [
    "digit_mnist=keras.datasets.mnist\n",
    "(x_train_full,y_train_full),(x_test,y_test)=digit_mnist.load_data()"
   ]
  },
  {
   "cell_type": "code",
   "execution_count": 3,
   "metadata": {},
   "outputs": [
    {
     "data": {
      "text/plain": [
       "<matplotlib.image.AxesImage at 0x7ff2acce8f28>"
      ]
     },
     "execution_count": 3,
     "metadata": {},
     "output_type": "execute_result"
    },
    {
     "data": {
      "image/png": "[encoded data removed]",
      "text/plain": [
       "<Figure size 432x288 with 1 Axes>"
      ]
     },
     "metadata": {
      "needs_background": "light"
     },
     "output_type": "display_data"
    }
   ],
   "source": [
    "plt.imshow(x_train_full[1])"
   ]
  },
  {
   "cell_type": "code",
   "execution_count": 4,
   "metadata": {},
   "outputs": [
    {
     "data": {
      "text/plain": [
       "0"
      ]
     },
     "execution_count": 4,
     "metadata": {},
     "output_type": "execute_result"
    }
   ],
   "source": [
    "y_train_full[1] #digit = 0"
   ]
  },
  {
   "cell_type": "code",
   "execution_count": 5,
   "metadata": {},
   "outputs": [],
   "source": [
    "#normalising the data\n",
    "x_train_n=x_train_full/255.0\n",
    "x_test_n=x_test/255.0"
   ]
  },
  {
   "cell_type": "code",
   "execution_count": 6,
   "metadata": {},
   "outputs": [],
   "source": [
    "#splitting data into train/validate/test\n",
    "x_valid,x_train=x_train_n[:5000],x_train_n[5000:]\n",
    "y_valid,y_train=y_train_full[:5000],y_train_full[5000:]\n",
    "x_test=x_test_n"
   ]
  },
  {
   "cell_type": "code",
   "execution_count": 7,
   "metadata": {},
   "outputs": [],
   "source": [
    "np.random.seed(42)\n",
    "tf.random.set_seed(42)"
   ]
  },
  {
   "cell_type": "code",
   "execution_count": 8,
   "metadata": {},
   "outputs": [],
   "source": [
    "model=keras.models.Sequential()\n",
    "model.add(keras.layers.Flatten(input_shape=[28,28]))\n",
    "model.add(keras.layers.Dense(300, activation=\"relu\"))\n",
    "model.add(keras.layers.Dense(100,activation='relu'))\n",
    "model.add(keras.layers.Dense(10,activation=\"softmax\"))"
   ]
  },
  {
   "cell_type": "code",
   "execution_count": 9,
   "metadata": {},
   "outputs": [
    {
     "name": "stdout",
     "output_type": "stream",
     "text": [
      "Model: \"sequential\"\n",
      "_________________________________________________________________\n",
      "Layer (type)                 Output Shape              Param #   \n",
      "=================================================================\n",
      "flatten (Flatten)            (None, 784)               0         \n",
      "_________________________________________________________________\n",
      "dense (Dense)                (None, 300)               235500    \n",
      "_________________________________________________________________\n",
      "dense_1 (Dense)              (None, 100)               30100     \n",
      "_________________________________________________________________\n",
      "dense_2 (Dense)              (None, 10)                1010      \n",
      "=================================================================\n",
      "Total params: 266,610\n",
      "Trainable params: 266,610\n",
      "Non-trainable params: 0\n",
      "_________________________________________________________________\n"
     ]
    }
   ],
   "source": [
    "model.summary()"
   ]
  },
  {
   "cell_type": "code",
   "execution_count": 10,
   "metadata": {},
   "outputs": [
    {
     "name": "stdout",
     "output_type": "stream",
     "text": [
      "[[ 0.02448617 -0.00877795 -0.02189048 ... -0.02766046  0.03859074\n",
      "  -0.06889391]\n",
      " [ 0.00476504 -0.03105379 -0.0586676  ...  0.00602964 -0.02763776\n",
      "  -0.04165364]\n",
      " [-0.06189284 -0.06901957  0.07102345 ... -0.04238207  0.07121518\n",
      "  -0.07331658]\n",
      " ...\n",
      " [-0.03048757  0.02155137 -0.05400612 ... -0.00113463  0.00228987\n",
      "   0.05581069]\n",
      " [ 0.07061854 -0.06960931  0.07038955 ... -0.00384101  0.00034875\n",
      "   0.02878492]\n",
      " [-0.06022581  0.01577859 -0.02585464 ... -0.00527829  0.00272203\n",
      "  -0.06793761]]\n"
     ]
    }
   ],
   "source": [
    "weights,biases=model.layers[1].get_weights()  #initial random weights & biases assigned\n",
    "print(weights)"
   ]
  },
  {
   "cell_type": "code",
   "execution_count": 11,
   "metadata": {},
   "outputs": [
    {
     "data": {
      "text/plain": [
       "(784, 300)"
      ]
     },
     "execution_count": 11,
     "metadata": {},
     "output_type": "execute_result"
    }
   ],
   "source": [
    "weights.shape"
   ]
  },
  {
   "cell_type": "code",
   "execution_count": 12,
   "metadata": {},
   "outputs": [
    {
     "name": "stdout",
     "output_type": "stream",
     "text": [
      "[0. 0. 0. 0. 0. 0. 0. 0. 0. 0. 0. 0. 0. 0. 0. 0. 0. 0. 0. 0. 0. 0. 0. 0.\n",
      " 0. 0. 0. 0. 0. 0. 0. 0. 0. 0. 0. 0. 0. 0. 0. 0. 0. 0. 0. 0. 0. 0. 0. 0.\n",
      " 0. 0. 0. 0. 0. 0. 0. 0. 0. 0. 0. 0. 0. 0. 0. 0. 0. 0. 0. 0. 0. 0. 0. 0.\n",
      " 0. 0. 0. 0. 0. 0. 0. 0. 0. 0. 0. 0. 0. 0. 0. 0. 0. 0. 0. 0. 0. 0. 0. 0.\n",
      " 0. 0. 0. 0. 0. 0. 0. 0. 0. 0. 0. 0. 0. 0. 0. 0. 0. 0. 0. 0. 0. 0. 0. 0.\n",
      " 0. 0. 0. 0. 0. 0. 0. 0. 0. 0. 0. 0. 0. 0. 0. 0. 0. 0. 0. 0. 0. 0. 0. 0.\n",
      " 0. 0. 0. 0. 0. 0. 0. 0. 0. 0. 0. 0. 0. 0. 0. 0. 0. 0. 0. 0. 0. 0. 0. 0.\n",
      " 0. 0. 0. 0. 0. 0. 0. 0. 0. 0. 0. 0. 0. 0. 0. 0. 0. 0. 0. 0. 0. 0. 0. 0.\n",
      " 0. 0. 0. 0. 0. 0. 0. 0. 0. 0. 0. 0. 0. 0. 0. 0. 0. 0. 0. 0. 0. 0. 0. 0.\n",
      " 0. 0. 0. 0. 0. 0. 0. 0. 0. 0. 0. 0. 0. 0. 0. 0. 0. 0. 0. 0. 0. 0. 0. 0.\n",
      " 0. 0. 0. 0. 0. 0. 0. 0. 0. 0. 0. 0. 0. 0. 0. 0. 0. 0. 0. 0. 0. 0. 0. 0.\n",
      " 0. 0. 0. 0. 0. 0. 0. 0. 0. 0. 0. 0. 0. 0. 0. 0. 0. 0. 0. 0. 0. 0. 0. 0.\n",
      " 0. 0. 0. 0. 0. 0. 0. 0. 0. 0. 0. 0.]\n"
     ]
    }
   ],
   "source": [
    "print(biases)"
   ]
  },
  {
   "cell_type": "code",
   "execution_count": 13,
   "metadata": {},
   "outputs": [],
   "source": [
    "model.compile(loss='sparse_categorical_crossentropy',\n",
    "              optimizer='sgd',\n",
    "              metrics=['accuracy'])"
   ]
  },
  {
   "cell_type": "code",
   "execution_count": 14,
   "metadata": {},
   "outputs": [
    {
     "name": "stdout",
     "output_type": "stream",
     "text": [
      "Epoch 1/30\n",
      "1719/1719 [==============================] - 5s 3ms/step - loss: 1.0483 - accuracy: 0.7215 - val_loss: 0.3103 - val_accuracy: 0.9120\n",
      "Epoch 2/30\n",
      "1719/1719 [==============================] - 5s 3ms/step - loss: 0.3103 - accuracy: 0.9111 - val_loss: 0.2473 - val_accuracy: 0.9304\n",
      "Epoch 3/30\n",
      "1719/1719 [==============================] - 5s 3ms/step - loss: 0.2556 - accuracy: 0.9255 - val_loss: 0.2060 - val_accuracy: 0.9428\n",
      "Epoch 4/30\n",
      "1719/1719 [==============================] - 4s 3ms/step - loss: 0.2133 - accuracy: 0.9391 - val_loss: 0.1824 - val_accuracy: 0.9494\n",
      "Epoch 5/30\n",
      "1719/1719 [==============================] - 5s 3ms/step - loss: 0.1859 - accuracy: 0.9466 - val_loss: 0.1645 - val_accuracy: 0.9540\n",
      "Epoch 6/30\n",
      "1719/1719 [==============================] - 5s 3ms/step - loss: 0.1652 - accuracy: 0.9518 - val_loss: 0.1483 - val_accuracy: 0.9602\n",
      "Epoch 7/30\n",
      "1719/1719 [==============================] - 5s 3ms/step - loss: 0.1465 - accuracy: 0.9591 - val_loss: 0.1368 - val_accuracy: 0.9632\n",
      "Epoch 8/30\n",
      "1719/1719 [==============================] - 4s 3ms/step - loss: 0.1311 - accuracy: 0.9629 - val_loss: 0.1296 - val_accuracy: 0.9638\n",
      "Epoch 9/30\n",
      "1719/1719 [==============================] - 4s 3ms/step - loss: 0.1223 - accuracy: 0.9665 - val_loss: 0.1184 - val_accuracy: 0.9672\n",
      "Epoch 10/30\n",
      "1719/1719 [==============================] - 4s 3ms/step - loss: 0.1073 - accuracy: 0.9701 - val_loss: 0.1092 - val_accuracy: 0.9694\n",
      "Epoch 11/30\n",
      "1719/1719 [==============================] - 4s 3ms/step - loss: 0.0995 - accuracy: 0.9720 - val_loss: 0.1050 - val_accuracy: 0.9694\n",
      "Epoch 12/30\n",
      "1719/1719 [==============================] - 4s 3ms/step - loss: 0.0913 - accuracy: 0.9744 - val_loss: 0.1005 - val_accuracy: 0.9708\n",
      "Epoch 13/30\n",
      "1719/1719 [==============================] - 4s 3ms/step - loss: 0.0802 - accuracy: 0.9777 - val_loss: 0.0949 - val_accuracy: 0.9730\n",
      "Epoch 14/30\n",
      "1719/1719 [==============================] - 5s 3ms/step - loss: 0.0793 - accuracy: 0.9774 - val_loss: 0.0921 - val_accuracy: 0.9736\n",
      "Epoch 15/30\n",
      "1719/1719 [==============================] - 4s 3ms/step - loss: 0.0708 - accuracy: 0.9805 - val_loss: 0.0879 - val_accuracy: 0.9720\n",
      "Epoch 16/30\n",
      "1719/1719 [==============================] - 4s 3ms/step - loss: 0.0687 - accuracy: 0.9811 - val_loss: 0.0860 - val_accuracy: 0.9740\n",
      "Epoch 17/30\n",
      "1719/1719 [==============================] - 4s 3ms/step - loss: 0.0624 - accuracy: 0.9831 - val_loss: 0.0836 - val_accuracy: 0.9754\n",
      "Epoch 18/30\n",
      "1719/1719 [==============================] - 4s 3ms/step - loss: 0.0571 - accuracy: 0.9848 - val_loss: 0.0800 - val_accuracy: 0.9768\n",
      "Epoch 19/30\n",
      "1719/1719 [==============================] - 4s 3ms/step - loss: 0.0545 - accuracy: 0.9852 - val_loss: 0.0783 - val_accuracy: 0.9772\n",
      "Epoch 20/30\n",
      "1719/1719 [==============================] - 4s 3ms/step - loss: 0.0524 - accuracy: 0.9862 - val_loss: 0.0776 - val_accuracy: 0.9764\n",
      "Epoch 21/30\n",
      "1719/1719 [==============================] - 5s 3ms/step - loss: 0.0482 - accuracy: 0.9873 - val_loss: 0.0737 - val_accuracy: 0.9784\n",
      "Epoch 22/30\n",
      "1719/1719 [==============================] - 4s 3ms/step - loss: 0.0466 - accuracy: 0.9879 - val_loss: 0.0744 - val_accuracy: 0.9780\n",
      "Epoch 23/30\n",
      "1719/1719 [==============================] - 5s 3ms/step - loss: 0.0462 - accuracy: 0.9878 - val_loss: 0.0757 - val_accuracy: 0.9766\n",
      "Epoch 24/30\n",
      "1719/1719 [==============================] - 5s 3ms/step - loss: 0.0398 - accuracy: 0.9901 - val_loss: 0.0730 - val_accuracy: 0.9772\n",
      "Epoch 25/30\n",
      "1719/1719 [==============================] - 4s 3ms/step - loss: 0.0373 - accuracy: 0.9905 - val_loss: 0.0708 - val_accuracy: 0.9794\n",
      "Epoch 26/30\n",
      "1719/1719 [==============================] - 4s 3ms/step - loss: 0.0346 - accuracy: 0.9921 - val_loss: 0.0682 - val_accuracy: 0.9792\n",
      "Epoch 27/30\n",
      "1719/1719 [==============================] - 4s 3ms/step - loss: 0.0319 - accuracy: 0.9927 - val_loss: 0.0674 - val_accuracy: 0.9806\n",
      "Epoch 28/30\n",
      "1719/1719 [==============================] - 5s 3ms/step - loss: 0.0322 - accuracy: 0.9923 - val_loss: 0.0694 - val_accuracy: 0.9804\n",
      "Epoch 29/30\n",
      "1719/1719 [==============================] - 4s 3ms/step - loss: 0.0293 - accuracy: 0.9932 - val_loss: 0.0677 - val_accuracy: 0.9794\n",
      "Epoch 30/30\n",
      "1719/1719 [==============================] - 4s 3ms/step - loss: 0.0278 - accuracy: 0.9944 - val_loss: 0.0674 - val_accuracy: 0.9796\n"
     ]
    }
   ],
   "source": [
    "model_history=model.fit(x_train,y_train,epochs=30,validation_data=(x_valid,y_valid))"
   ]
  },
  {
   "cell_type": "code",
   "execution_count": 15,
   "metadata": {},
   "outputs": [
    {
     "data": {
      "text/plain": [
       "{'verbose': 1, 'epochs': 30, 'steps': 1719}"
      ]
     },
     "execution_count": 15,
     "metadata": {},
     "output_type": "execute_result"
    }
   ],
   "source": [
    "model_history.params"
   ]
  },
  {
   "cell_type": "code",
   "execution_count": 16,
   "metadata": {},
   "outputs": [
    {
     "data": {
      "text/plain": [
       "{'loss': [0.6196319460868835,\n",
       "  0.2953492999076843,\n",
       "  0.2430279701948166,\n",
       "  0.20758239924907684,\n",
       "  0.1810857206583023,\n",
       "  0.16032728552818298,\n",
       "  0.14312878251075745,\n",
       "  0.12918995320796967,\n",
       "  0.11744081974029541,\n",
       "  0.1077207624912262,\n",
       "  0.09876123070716858,\n",
       "  0.09110444784164429,\n",
       "  0.08427973836660385,\n",
       "  0.07805919647216797,\n",
       "  0.07257728278636932,\n",
       "  0.06766040623188019,\n",
       "  0.06317174434661865,\n",
       "  0.059195972979068756,\n",
       "  0.0554620623588562,\n",
       "  0.05192597210407257,\n",
       "  0.04878319054841995,\n",
       "  0.045797333121299744,\n",
       "  0.04309234023094177,\n",
       "  0.040337372571229935,\n",
       "  0.03831542655825615,\n",
       "  0.03593943640589714,\n",
       "  0.03398992121219635,\n",
       "  0.032082442194223404,\n",
       "  0.02996664308011532,\n",
       "  0.028481313958764076],\n",
       " 'accuracy': [0.8404726982116699,\n",
       "  0.9151272773742676,\n",
       "  0.9301454424858093,\n",
       "  0.940672755241394,\n",
       "  0.9486363530158997,\n",
       "  0.9542727470397949,\n",
       "  0.959672749042511,\n",
       "  0.9632545709609985,\n",
       "  0.9672545194625854,\n",
       "  0.9696363806724548,\n",
       "  0.9720363616943359,\n",
       "  0.974436342716217,\n",
       "  0.9761818051338196,\n",
       "  0.9781273007392883,\n",
       "  0.9796181917190552,\n",
       "  0.9807272553443909,\n",
       "  0.982272744178772,\n",
       "  0.9836363792419434,\n",
       "  0.9849091172218323,\n",
       "  0.986090898513794,\n",
       "  0.9868363738059998,\n",
       "  0.987672746181488,\n",
       "  0.9884545207023621,\n",
       "  0.9892727136611938,\n",
       "  0.9900909066200256,\n",
       "  0.9911817908287048,\n",
       "  0.9915817975997925,\n",
       "  0.9921454787254333,\n",
       "  0.9931818246841431,\n",
       "  0.9935454726219177],\n",
       " 'val_loss': [0.31031331419944763,\n",
       "  0.24730436503887177,\n",
       "  0.20600654184818268,\n",
       "  0.18241141736507416,\n",
       "  0.1645342856645584,\n",
       "  0.14830832183361053,\n",
       "  0.13684193789958954,\n",
       "  0.12963946163654327,\n",
       "  0.11842956393957138,\n",
       "  0.10918260365724564,\n",
       "  0.10498404502868652,\n",
       "  0.10054881870746613,\n",
       "  0.09494448453187943,\n",
       "  0.09213687479496002,\n",
       "  0.08785370737314224,\n",
       "  0.0860048457980156,\n",
       "  0.08360457420349121,\n",
       "  0.07996144145727158,\n",
       "  0.07832606881856918,\n",
       "  0.07763110101222992,\n",
       "  0.07367013394832611,\n",
       "  0.07444747537374496,\n",
       "  0.0757119283080101,\n",
       "  0.07298532128334045,\n",
       "  0.0708250030875206,\n",
       "  0.0682184174656868,\n",
       "  0.06740553677082062,\n",
       "  0.06935340166091919,\n",
       "  0.06768554449081421,\n",
       "  0.06737054139375687],\n",
       " 'val_accuracy': [0.9120000004768372,\n",
       "  0.930400013923645,\n",
       "  0.942799985408783,\n",
       "  0.949400007724762,\n",
       "  0.9539999961853027,\n",
       "  0.9602000117301941,\n",
       "  0.9631999731063843,\n",
       "  0.9638000130653381,\n",
       "  0.967199981212616,\n",
       "  0.9693999886512756,\n",
       "  0.9693999886512756,\n",
       "  0.97079998254776,\n",
       "  0.9729999899864197,\n",
       "  0.9735999703407288,\n",
       "  0.972000002861023,\n",
       "  0.9739999771118164,\n",
       "  0.9753999710083008,\n",
       "  0.9768000245094299,\n",
       "  0.9771999716758728,\n",
       "  0.9764000177383423,\n",
       "  0.9783999919891357,\n",
       "  0.9779999852180481,\n",
       "  0.9765999913215637,\n",
       "  0.9771999716758728,\n",
       "  0.9793999791145325,\n",
       "  0.979200005531311,\n",
       "  0.9805999994277954,\n",
       "  0.980400025844574,\n",
       "  0.9793999791145325,\n",
       "  0.9796000123023987]}"
      ]
     },
     "execution_count": 16,
     "metadata": {},
     "output_type": "execute_result"
    }
   ],
   "source": [
    "model_history.history"
   ]
  },
  {
   "cell_type": "code",
   "execution_count": 17,
   "metadata": {},
   "outputs": [
    {
     "data": {
      "image/png": "[encoded data removed]",
      "text/plain": [
       "<Figure size 576x360 with 1 Axes>"
      ]
     },
     "metadata": {
      "needs_background": "light"
     },
     "output_type": "display_data"
    }
   ],
   "source": [
    "import pandas as pd\n",
    "\n",
    "pd.DataFrame(model_history.history).plot(figsize=(8,5))\n",
    "plt.grid(True)\n",
    "plt.gca().set_ylim(0,1)\n",
    "plt.show()"
   ]
  },
  {
   "cell_type": "code",
   "execution_count": 18,
   "metadata": {},
   "outputs": [
    {
     "name": "stdout",
     "output_type": "stream",
     "text": [
      "313/313 [==============================] - 1s 2ms/step - loss: 0.0689 - accuracy: 0.9796\n"
     ]
    },
    {
     "data": {
      "text/plain": [
       "[0.06893561035394669, 0.9796000123023987]"
      ]
     },
     "execution_count": 18,
     "metadata": {},
     "output_type": "execute_result"
    }
   ],
   "source": [
    "model.evaluate(x_test,y_test)"
   ]
  },
  {
   "cell_type": "code",
   "execution_count": 21,
   "metadata": {},
   "outputs": [],
   "source": [
    "#testing\n",
    "x_new=x_test[:5]"
   ]
  },
  {
   "cell_type": "code",
   "execution_count": 22,
   "metadata": {},
   "outputs": [
    {
     "data": {
      "text/plain": [
       "array([[0., 0., 0., 0., 0., 0., 0., 1., 0., 0.],\n",
       "       [0., 0., 1., 0., 0., 0., 0., 0., 0., 0.],\n",
       "       [0., 1., 0., 0., 0., 0., 0., 0., 0., 0.],\n",
       "       [1., 0., 0., 0., 0., 0., 0., 0., 0., 0.],\n",
       "       [0., 0., 0., 0., 1., 0., 0., 0., 0., 0.]], dtype=float32)"
      ]
     },
     "execution_count": 22,
     "metadata": {},
     "output_type": "execute_result"
    }
   ],
   "source": [
    "#probabilities of each test image taken\n",
    "y_prob=model.predict(x_new) #we have 10 types of items, we get each one's probability\n",
    "y_prob.round(2)"
   ]
  },
  {
   "cell_type": "code",
   "execution_count": 23,
   "metadata": {},
   "outputs": [
    {
     "name": "stderr",
     "output_type": "stream",
     "text": [
      "/home/umar/.local/lib/python3.6/site-packages/tensorflow/python/keras/engine/sequential.py:450: UserWarning: `model.predict_classes()` is deprecated and will be removed after 2021-01-01. Please use instead:* `np.argmax(model.predict(x), axis=-1)`,   if your model does multi-class classification   (e.g. if it uses a `softmax` last-layer activation).* `(model.predict(x) > 0.5).astype(\"int32\")`,   if your model does binary classification   (e.g. if it uses a `sigmoid` last-layer activation).\n",
      "  warnings.warn('`model.predict_classes()` is deprecated and '\n"
     ]
    },
    {
     "data": {
      "text/plain": [
       "array([7, 2, 1, 0, 4])"
      ]
     },
     "execution_count": 23,
     "metadata": {},
     "output_type": "execute_result"
    }
   ],
   "source": [
    "#Predictions\n",
    "y_pred=model.predict_classes(x_new)#tell the class label directly\n",
    "y_pred"
   ]
  },
  {
   "cell_type": "code",
   "execution_count": 29,
   "metadata": {},
   "outputs": [
    {
     "data": {
      "image/png": "[encoded data removed]",
      "text/plain": [
       "<Figure size 432x288 with 5 Axes>"
      ]
     },
     "metadata": {
      "needs_background": "light"
     },
     "output_type": "display_data"
    }
   ],
   "source": [
    "plt.figure()\n",
    "\n",
    "plt.subplot(3,2,1),plt.imshow(x_test[0]);\n",
    "plt.subplot(3,2,2),plt.imshow(x_test[1]);\n",
    "plt.subplot(3,2,3),plt.imshow(x_test[2]);\n",
    "plt.subplot(3,2,4),plt.imshow(x_test[3]);\n",
    "plt.subplot(3,2,5),plt.imshow(x_test[4]);\n",
    "# plt.imshow(x_test[0])\n",
    "# plt.imshow(x_test[1])"
   ]
  },
  {
   "cell_type": "code",
   "execution_count": null,
   "metadata": {},
   "outputs": [],
   "source": []
  }
 ],
 "metadata": {
  "kernelspec": {
   "display_name": "Python 3",
   "language": "python",
   "name": "python3"
  },
  "language_info": {
   "codemirror_mode": {
    "name": "ipython",
    "version": 3
   },
   "file_extension": ".py",
   "mimetype": "text/x-python",
   "name": "python",
   "nbconvert_exporter": "python",
   "pygments_lexer": "ipython3",
   "version": "3.6.9"
  }
 },
 "nbformat": 4,
 "nbformat_minor": 4
}
