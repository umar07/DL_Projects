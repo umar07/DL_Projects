{
 "cells": [
  {
   "cell_type": "code",
   "execution_count": 2,
   "metadata": {
    "_cell_guid": "b1076dfc-b9ad-4769-8c92-a6c4dae69d19",
    "_uuid": "8f2839f25d086af736a60e9eeb907d3b93b6e0e5"
   },
   "outputs": [],
   "source": [
    "import numpy as np\n",
    "import pandas as pd\n",
    "import os\n",
    "import cv2\n",
    "from sklearn.model_selection import train_test_split\n",
    "import matplotlib.pyplot as plt\n",
    "import tensorflow as tf\n",
    "from tensorflow import keras\n",
    "from keras.applications.inception_v3 import InceptionV3\n",
    "from keras.utils import np_utils\n",
    "from keras.optimizers import SGD\n",
    "from tensorflow.keras.preprocessing.image import ImageDataGenerator"
   ]
  },
  {
   "cell_type": "code",
   "execution_count": 3,
   "metadata": {},
   "outputs": [],
   "source": [
    "train_path='/home/umar/ML-AI/datasets/Face Mask Dataset/Train'\n",
    "test_path='/home/umar/ML-AI/datasets/Face Mask Dataset/Test'\n",
    "val_path='/home/umar/ML-AI/datasets/Face Mask Dataset/Validation'"
   ]
  },
  {
   "cell_type": "code",
   "execution_count": 4,
   "metadata": {},
   "outputs": [
    {
     "name": "stdout",
     "output_type": "stream",
     "text": [
      "Found 10000 images belonging to 2 classes.\n",
      "Found 992 images belonging to 2 classes.\n",
      "Found 800 images belonging to 2 classes.\n"
     ]
    }
   ],
   "source": [
    "img_size=(256,256)\n",
    "batch_size=64\n",
    "\n",
    "datagen = ImageDataGenerator(\n",
    "    rescale=1./255,\n",
    "    zoom_range=0.2,\n",
    "    horizontal_flip=True\n",
    ")\n",
    "\n",
    "train_generator=datagen.flow_from_directory(\n",
    "    train_path,\n",
    "    target_size=img_size,\n",
    "    batch_size=batch_size,\n",
    "    class_mode='binary',\n",
    "    color_mode='rgb'\n",
    ")\n",
    "\n",
    "test_generator=datagen.flow_from_directory(\n",
    "    test_path,\n",
    "    target_size=img_size,\n",
    "    batch_size=batch_size,\n",
    "    class_mode='binary',\n",
    "    color_mode='rgb'\n",
    ")\n",
    "\n",
    "val_generator=datagen.flow_from_directory(\n",
    "    val_path,\n",
    "    target_size=img_size,\n",
    "    batch_size=batch_size,\n",
    "    class_mode='binary',\n",
    "    color_mode='rgb'\n",
    ")"
   ]
  },
  {
   "cell_type": "code",
   "execution_count": 5,
   "metadata": {},
   "outputs": [],
   "source": [
    "# We are using InceptionV3 pre-trained model and a fully connected top layer for our classification.\n",
    "\n",
    "model_pretrained = InceptionV3(weights='imagenet', \n",
    "                      include_top=False, \n",
    "                      input_shape=(256,256,3))\n",
    "\n",
    "model=keras.models.Sequential()\n",
    "model.add(model_pretrained)\n",
    "model.add(keras.layers.Flatten())\n",
    "model.add(keras.layers.Dense(300, activation=\"relu\"))\n",
    "model.add(keras.layers.Dropout(0.5))\n",
    "model.add(keras.layers.Dense(100,activation='relu'))\n",
    "model.add(keras.layers.Dropout(0.5))\n",
    "model.add(keras.layers.Dense(1,activation=\"sigmoid\"))"
   ]
  },
  {
   "cell_type": "code",
   "execution_count": 6,
   "metadata": {},
   "outputs": [
    {
     "name": "stdout",
     "output_type": "stream",
     "text": [
      "Model: \"sequential\"\n",
      "_________________________________________________________________\n",
      "Layer (type)                 Output Shape              Param #   \n",
      "=================================================================\n",
      "inception_v3 (Functional)    (None, 6, 6, 2048)        21802784  \n",
      "_________________________________________________________________\n",
      "flatten (Flatten)            (None, 73728)             0         \n",
      "_________________________________________________________________\n",
      "dense (Dense)                (None, 300)               22118700  \n",
      "_________________________________________________________________\n",
      "dropout (Dropout)            (None, 300)               0         \n",
      "_________________________________________________________________\n",
      "dense_1 (Dense)              (None, 100)               30100     \n",
      "_________________________________________________________________\n",
      "dropout_1 (Dropout)          (None, 100)               0         \n",
      "_________________________________________________________________\n",
      "dense_2 (Dense)              (None, 1)                 101       \n",
      "=================================================================\n",
      "Total params: 43,951,685\n",
      "Trainable params: 43,917,253\n",
      "Non-trainable params: 34,432\n",
      "_________________________________________________________________\n"
     ]
    }
   ],
   "source": [
    "model.summary()"
   ]
  },
  {
   "cell_type": "code",
   "execution_count": 7,
   "metadata": {},
   "outputs": [],
   "source": [
    "# Time based learning rate scheduling\n",
    "epoch=50\n",
    "learning_rate=0.01\n",
    "decay_rate=learning_rate/epoch\n",
    "momentum=0.8\n",
    "sgd=SGD(lr=learning_rate,momentum=momentum,decay=decay_rate)"
   ]
  },
  {
   "cell_type": "code",
   "execution_count": 8,
   "metadata": {},
   "outputs": [],
   "source": [
    "# Early stopping callback\n",
    "callback = keras.callbacks.EarlyStopping(monitor='val_loss', patience=3)"
   ]
  },
  {
   "cell_type": "code",
   "execution_count": 9,
   "metadata": {},
   "outputs": [],
   "source": [
    "# compiling the model \n",
    "model.compile(loss='binary_crossentropy',\n",
    "              optimizer=sgd,\n",
    "              metrics=['accuracy'])"
   ]
  },
  {
   "cell_type": "code",
   "execution_count": 10,
   "metadata": {},
   "outputs": [
    {
     "name": "stdout",
     "output_type": "stream",
     "text": [
      "Epoch 1/50\n",
      "157/157 [==============================] - 3926s 25s/step - loss: 0.1812 - accuracy: 0.9280 - val_loss: 0.0330 - val_accuracy: 0.9900\n",
      "Epoch 2/50\n",
      "157/157 [==============================] - 3567s 23s/step - loss: 0.0162 - accuracy: 0.9946 - val_loss: 0.0025 - val_accuracy: 0.9987\n",
      "Epoch 3/50\n",
      "157/157 [==============================] - 3570s 23s/step - loss: 0.0049 - accuracy: 0.9987 - val_loss: 0.0054 - val_accuracy: 0.9987\n",
      "Epoch 4/50\n",
      "157/157 [==============================] - 3484s 22s/step - loss: 0.0056 - accuracy: 0.9984 - val_loss: 0.0017 - val_accuracy: 0.9987\n",
      "Epoch 5/50\n",
      "157/157 [==============================] - 3483s 22s/step - loss: 0.0049 - accuracy: 0.9984 - val_loss: 4.5177e-04 - val_accuracy: 1.0000\n",
      "Epoch 6/50\n",
      "157/157 [==============================] - 3480s 22s/step - loss: 0.0017 - accuracy: 0.9994 - val_loss: 0.0029 - val_accuracy: 0.9987\n",
      "Epoch 7/50\n",
      "157/157 [==============================] - 3478s 22s/step - loss: 8.3796e-04 - accuracy: 0.9997 - val_loss: 0.0018 - val_accuracy: 0.9987\n",
      "Epoch 8/50\n",
      "157/157 [==============================] - 3476s 22s/step - loss: 0.0011 - accuracy: 0.9994 - val_loss: 2.3938e-05 - val_accuracy: 1.0000\n",
      "Epoch 9/50\n",
      "157/157 [==============================] - 3464s 22s/step - loss: 2.6163e-04 - accuracy: 1.0000 - val_loss: 5.0788e-05 - val_accuracy: 1.0000\n",
      "Epoch 10/50\n",
      "157/157 [==============================] - 3550s 23s/step - loss: 1.5605e-04 - accuracy: 1.0000 - val_loss: 0.0030 - val_accuracy: 0.9987\n",
      "Epoch 11/50\n",
      "157/157 [==============================] - 3475s 22s/step - loss: 3.4199e-04 - accuracy: 1.0000 - val_loss: 6.8851e-04 - val_accuracy: 1.0000\n"
     ]
    }
   ],
   "source": [
    "model_history=model.fit(train_generator,epochs=epoch,validation_data=val_generator,shuffle=True, callbacks=[callback])"
   ]
  },
  {
   "cell_type": "code",
   "execution_count": 11,
   "metadata": {},
   "outputs": [
    {
     "data": {
      "image/png": "[encoded data removed]",
      "text/plain": [
       "<Figure size 576x360 with 1 Axes>"
      ]
     },
     "metadata": {
      "needs_background": "light"
     },
     "output_type": "display_data"
    }
   ],
   "source": [
    "# plotting the varoius metrics\n",
    "pd.DataFrame(model_history.history).plot(figsize=(8,5))\n",
    "plt.grid(True)\n",
    "plt.gca().set_ylim(0,1)\n",
    "plt.show()"
   ]
  },
  {
   "cell_type": "code",
   "execution_count": 12,
   "metadata": {},
   "outputs": [
    {
     "name": "stdout",
     "output_type": "stream",
     "text": [
      "16/16 [==============================] - 76s 5s/step - loss: 0.0017 - accuracy: 0.9990\n"
     ]
    },
    {
     "data": {
      "text/plain": [
       "[0.001715083490125835, 0.9989919066429138]"
      ]
     },
     "execution_count": 12,
     "metadata": {},
     "output_type": "execute_result"
    }
   ],
   "source": [
    "# Testing the model\n",
    "model.evaluate(test_generator)"
   ]
  },
  {
   "cell_type": "code",
   "execution_count": 13,
   "metadata": {},
   "outputs": [
    {
     "name": "stdout",
     "output_type": "stream",
     "text": [
      "INFO:tensorflow:Assets written to: maskDetect_model/assets\n"
     ]
    }
   ],
   "source": [
    "model.save(\"maskDetect_model\")"
   ]
  },
  {
   "cell_type": "code",
   "execution_count": 14,
   "metadata": {},
   "outputs": [
    {
     "data": {
      "text/plain": [
       "{'WithMask': 0, 'WithoutMask': 1}"
      ]
     },
     "execution_count": 14,
     "metadata": {},
     "output_type": "execute_result"
    }
   ],
   "source": [
    "test_generator.class_indices"
   ]
  },
  {
   "cell_type": "code",
   "execution_count": null,
   "metadata": {},
   "outputs": [],
   "source": []
  }
 ],
 "metadata": {
  "kernelspec": {
   "display_name": "Python 3",
   "language": "python",
   "name": "python3"
  },
  "language_info": {
   "codemirror_mode": {
    "name": "ipython",
    "version": 3
   },
   "file_extension": ".py",
   "mimetype": "text/x-python",
   "name": "python",
   "nbconvert_exporter": "python",
   "pygments_lexer": "ipython3",
   "version": "3.6.9"
  }
 },
 "nbformat": 4,
 "nbformat_minor": 4
}
