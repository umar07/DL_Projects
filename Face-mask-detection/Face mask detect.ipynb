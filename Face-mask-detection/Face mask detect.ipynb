{
 "cells": [
  {
   "cell_type": "code",
   "execution_count": 1,
   "metadata": {},
   "outputs": [],
   "source": [
    "import numpy as np\n",
    "import pandas as pd\n",
    "import os\n",
    "import cv2\n",
    "from sklearn.model_selection import train_test_split\n",
    "import matplotlib.pyplot as plt\n",
    "import tensorflow as tf\n",
    "from tensorflow import keras\n",
    "from keras.applications.inception_v3 import InceptionV3\n",
    "from keras.utils import np_utils\n",
    "from keras.optimizers import SGD"
   ]
  },
  {
   "cell_type": "code",
   "execution_count": 2,
   "metadata": {},
   "outputs": [
    {
     "name": "stdout",
     "output_type": "stream",
     "text": [
      "Number of Training images: 600\n",
      "Number of Labels for training images: 600\n",
      "Number of Testing images: 100\n",
      "Number of Labels for testing images: 100\n",
      "Number of Validation images: 306\n",
      "Number of Labels for validation images: 306\n"
     ]
    }
   ],
   "source": [
    "# Preparin our train, test and validation data along with labels\n",
    "\n",
    "x_train=[]\n",
    "y_train=[]\n",
    "x_test=[]\n",
    "y_test=[]\n",
    "x_val=[]\n",
    "y_val=[]\n",
    "\n",
    "dim=128\n",
    "\n",
    "path_train='/home/umar/ML-AI/datasets/New Masks Dataset/Train'\n",
    "path_test='/home/umar/ML-AI/datasets/New Masks Dataset/Test'\n",
    "path_val='/home/umar/ML-AI/datasets/New Masks Dataset/Validation'\n",
    "\n",
    "category={'Non Mask':0,'Mask':1}\n",
    "\n",
    "for i in os.listdir(path_train):\n",
    "    #print(i)\n",
    "    path=os.path.join(path_train,i)\n",
    "    for j in os.listdir(path):\n",
    "        img=cv2.imread(os.path.join(path,j))\n",
    "        img=cv2.resize(img,(dim,dim)) #resizing each image for uniformity\n",
    "        x_train.append([img])\n",
    "        y_train.append(category[i]) #adding labels for each image\n",
    "        \n",
    "print('Number of Training images:',len(x_train))\n",
    "print('Number of Labels for training images:',len(y_train))\n",
    "\n",
    "for i in os.listdir(path_test):\n",
    "    #print(i)\n",
    "    path=os.path.join(path_test,i)\n",
    "    for j in os.listdir(path):\n",
    "        img=cv2.imread(os.path.join(path,j))\n",
    "        img=cv2.resize(img,(dim,dim)) #resizing each image for uniformity\n",
    "        x_test.append([img])\n",
    "        y_test.append(category[i]) #adding labels for each image\n",
    "        \n",
    "print('Number of Testing images:',len(x_test))\n",
    "print('Number of Labels for testing images:',len(y_test))\n",
    "\n",
    "for i in os.listdir(path_val):\n",
    "    #print(i)\n",
    "    path=os.path.join(path_val,i)\n",
    "    for j in os.listdir(path):\n",
    "        img=cv2.imread(os.path.join(path,j))\n",
    "        img=cv2.resize(img,(dim,dim)) #resizing each image for uniformity\n",
    "        x_val.append([img])\n",
    "        y_val.append(category[i]) #adding labels for each image\n",
    "        \n",
    "print('Number of Validation images:',len(x_val))\n",
    "\n",
    "print('Number of Labels for validation images:',len(y_val))"
   ]
  },
  {
   "cell_type": "code",
   "execution_count": 3,
   "metadata": {},
   "outputs": [
    {
     "name": "stdout",
     "output_type": "stream",
     "text": [
      "[[1. 0.]\n",
      " [1. 0.]\n",
      " [1. 0.]\n",
      " ...\n",
      " [0. 1.]\n",
      " [0. 1.]\n",
      " [0. 1.]]\n"
     ]
    }
   ],
   "source": [
    "# Converting lists into arrays, and normalising the image arrays.\n",
    "\n",
    "x_train= np.array(x_train, dtype=\"float\") / 255.0\n",
    "x_test=np.array(x_test,dtype=\"float\") / 255.0\n",
    "x_val= np.array(x_val, dtype=\"float\") / 255.0\n",
    "\n",
    "y_train= np.array(y_train) \n",
    "y_test=np.array(y_test)\n",
    "y_val=np.array(y_val)\n",
    "\n",
    "y_train=np_utils.to_categorical(y_train)\n",
    "y_test=np_utils.to_categorical(y_test)\n",
    "y_val=np_utils.to_categorical(y_val)\n",
    "\n",
    "print(y_train)"
   ]
  },
  {
   "cell_type": "code",
   "execution_count": 4,
   "metadata": {},
   "outputs": [
    {
     "name": "stdout",
     "output_type": "stream",
     "text": [
      "(600, 128, 128, 3)\n",
      "(100, 128, 128, 3)\n",
      "(306, 128, 128, 3)\n"
     ]
    }
   ],
   "source": [
    "# Reshaping our data for training\n",
    "\n",
    "x_train_reshaped=x_train.reshape(x_train.shape[0],dim,dim,3)\n",
    "x_test_reshaped=x_test.reshape(x_test.shape[0],dim,dim,3)\n",
    "x_val_reshaped=x_val.reshape(x_val.shape[0],dim,dim,3)\n",
    "print(x_train_reshaped.shape)\n",
    "print(x_test_reshaped.shape)\n",
    "print(x_val_reshaped.shape)"
   ]
  },
  {
   "cell_type": "code",
   "execution_count": 5,
   "metadata": {},
   "outputs": [],
   "source": [
    "# We are using InceptionV3 pre-trained model and a fully connected top layer for our classification.\n",
    "\n",
    "model_pretrained = InceptionV3(weights='imagenet', \n",
    "                      include_top=False, \n",
    "                      input_shape=(128,128,3))\n",
    "\n",
    "model=keras.models.Sequential()\n",
    "model.add(model_pretrained)\n",
    "model.add(keras.layers.Flatten())\n",
    "model.add(keras.layers.Dense(300, activation=\"relu\"))\n",
    "model.add(keras.layers.Dropout(0.5))\n",
    "model.add(keras.layers.Dense(100,activation='relu'))\n",
    "model.add(keras.layers.Dropout(0.5))\n",
    "model.add(keras.layers.Dense(2,activation=\"sigmoid\"))"
   ]
  },
  {
   "cell_type": "code",
   "execution_count": 6,
   "metadata": {},
   "outputs": [
    {
     "name": "stdout",
     "output_type": "stream",
     "text": [
      "Model: \"sequential\"\n",
      "_________________________________________________________________\n",
      "Layer (type)                 Output Shape              Param #   \n",
      "=================================================================\n",
      "inception_v3 (Functional)    (None, 2, 2, 2048)        21802784  \n",
      "_________________________________________________________________\n",
      "flatten (Flatten)            (None, 8192)              0         \n",
      "_________________________________________________________________\n",
      "dense (Dense)                (None, 300)               2457900   \n",
      "_________________________________________________________________\n",
      "dropout (Dropout)            (None, 300)               0         \n",
      "_________________________________________________________________\n",
      "dense_1 (Dense)              (None, 100)               30100     \n",
      "_________________________________________________________________\n",
      "dropout_1 (Dropout)          (None, 100)               0         \n",
      "_________________________________________________________________\n",
      "dense_2 (Dense)              (None, 2)                 202       \n",
      "=================================================================\n",
      "Total params: 24,290,986\n",
      "Trainable params: 24,256,554\n",
      "Non-trainable params: 34,432\n",
      "_________________________________________________________________\n"
     ]
    }
   ],
   "source": [
    "model.summary()"
   ]
  },
  {
   "cell_type": "code",
   "execution_count": 7,
   "metadata": {},
   "outputs": [],
   "source": [
    "# Time based learning rate scheduling\n",
    "epoch=50\n",
    "learning_rate=0.01\n",
    "decay_rate=learning_rate/epoch\n",
    "momentum=0.8\n",
    "sgd=SGD(lr=learning_rate,momentum=momentum,decay=decay_rate)"
   ]
  },
  {
   "cell_type": "code",
   "execution_count": 8,
   "metadata": {},
   "outputs": [],
   "source": [
    "# Early stopping callback\n",
    "callback = keras.callbacks.EarlyStopping(monitor='val_loss', patience=3)"
   ]
  },
  {
   "cell_type": "code",
   "execution_count": 9,
   "metadata": {},
   "outputs": [],
   "source": [
    "# compiling the model \n",
    "model.compile(loss='binary_crossentropy',\n",
    "              optimizer=sgd,\n",
    "              metrics=['accuracy'])"
   ]
  },
  {
   "cell_type": "code",
   "execution_count": 10,
   "metadata": {},
   "outputs": [
    {
     "name": "stdout",
     "output_type": "stream",
     "text": [
      "Epoch 1/50\n",
      "19/19 [==============================] - 62s 3s/step - loss: 0.7596 - accuracy: 0.6300 - val_loss: 1.6112 - val_accuracy: 0.5588\n",
      "Epoch 2/50\n",
      "19/19 [==============================] - 53s 3s/step - loss: 0.3125 - accuracy: 0.8987 - val_loss: 0.2719 - val_accuracy: 0.8922\n",
      "Epoch 3/50\n",
      "19/19 [==============================] - 53s 3s/step - loss: 0.1400 - accuracy: 0.9544 - val_loss: 0.8875 - val_accuracy: 0.7745\n",
      "Epoch 4/50\n",
      "19/19 [==============================] - 53s 3s/step - loss: 0.1018 - accuracy: 0.9642 - val_loss: 0.2250 - val_accuracy: 0.8987\n",
      "Epoch 5/50\n",
      "19/19 [==============================] - 53s 3s/step - loss: 0.0953 - accuracy: 0.9557 - val_loss: 1.0131 - val_accuracy: 0.7680\n",
      "Epoch 6/50\n",
      "19/19 [==============================] - 53s 3s/step - loss: 0.0869 - accuracy: 0.9710 - val_loss: 0.4840 - val_accuracy: 0.8824\n",
      "Epoch 7/50\n",
      "19/19 [==============================] - 56s 3s/step - loss: 0.0426 - accuracy: 0.9832 - val_loss: 0.1947 - val_accuracy: 0.9412\n",
      "Epoch 8/50\n",
      "19/19 [==============================] - 54s 3s/step - loss: 0.0177 - accuracy: 0.9964 - val_loss: 0.1724 - val_accuracy: 0.9542\n",
      "Epoch 9/50\n",
      "19/19 [==============================] - 53s 3s/step - loss: 0.0098 - accuracy: 0.9972 - val_loss: 0.1420 - val_accuracy: 0.9575\n",
      "Epoch 10/50\n",
      "19/19 [==============================] - 53s 3s/step - loss: 0.0072 - accuracy: 1.0000 - val_loss: 0.1229 - val_accuracy: 0.9641\n",
      "Epoch 11/50\n",
      "19/19 [==============================] - 53s 3s/step - loss: 0.0037 - accuracy: 1.0000 - val_loss: 0.1167 - val_accuracy: 0.9673\n",
      "Epoch 12/50\n",
      "19/19 [==============================] - 53s 3s/step - loss: 0.0026 - accuracy: 1.0000 - val_loss: 0.1130 - val_accuracy: 0.9706\n",
      "Epoch 13/50\n",
      "19/19 [==============================] - 53s 3s/step - loss: 0.0047 - accuracy: 1.0000 - val_loss: 0.1122 - val_accuracy: 0.9706\n",
      "Epoch 14/50\n",
      "19/19 [==============================] - 53s 3s/step - loss: 0.0049 - accuracy: 1.0000 - val_loss: 0.1076 - val_accuracy: 0.9739\n",
      "Epoch 15/50\n",
      "19/19 [==============================] - 53s 3s/step - loss: 0.0024 - accuracy: 1.0000 - val_loss: 0.1073 - val_accuracy: 0.9706\n",
      "Epoch 16/50\n",
      "19/19 [==============================] - 53s 3s/step - loss: 0.0025 - accuracy: 1.0000 - val_loss: 0.1060 - val_accuracy: 0.9706\n",
      "Epoch 17/50\n",
      "19/19 [==============================] - 53s 3s/step - loss: 0.0024 - accuracy: 1.0000 - val_loss: 0.1148 - val_accuracy: 0.9673\n",
      "Epoch 18/50\n",
      "19/19 [==============================] - 54s 3s/step - loss: 0.0064 - accuracy: 0.9976 - val_loss: 0.1221 - val_accuracy: 0.9608\n",
      "Epoch 19/50\n",
      "19/19 [==============================] - 53s 3s/step - loss: 0.0016 - accuracy: 1.0000 - val_loss: 0.1242 - val_accuracy: 0.9608\n"
     ]
    }
   ],
   "source": [
    "# Training stops after 19 epochs due to early stopping\n",
    "model_history=model.fit(x_train_reshaped,y_train,batch_size=32,epochs=epoch,validation_data=(x_val_reshaped,y_val),shuffle=True, callbacks=[callback])"
   ]
  },
  {
   "cell_type": "code",
   "execution_count": 11,
   "metadata": {},
   "outputs": [
    {
     "data": {
      "image/png": "[encoded data removed]",
      "text/plain": [
       "<Figure size 576x360 with 1 Axes>"
      ]
     },
     "metadata": {
      "needs_background": "light"
     },
     "output_type": "display_data"
    }
   ],
   "source": [
    "# plotting the varoius metrics\n",
    "pd.DataFrame(model_history.history).plot(figsize=(8,5))\n",
    "plt.grid(True)\n",
    "plt.gca().set_ylim(0,1)\n",
    "plt.show()"
   ]
  },
  {
   "cell_type": "code",
   "execution_count": 12,
   "metadata": {},
   "outputs": [
    {
     "name": "stdout",
     "output_type": "stream",
     "text": [
      "4/4 [==============================] - 1s 310ms/step - loss: 0.0466 - accuracy: 0.9800\n"
     ]
    },
    {
     "data": {
      "text/plain": [
       "[0.04660970717668533, 0.9800000190734863]"
      ]
     },
     "execution_count": 12,
     "metadata": {},
     "output_type": "execute_result"
    }
   ],
   "source": [
    "# Testing the model\n",
    "model.evaluate(x_test_reshaped,y_test)"
   ]
  },
  {
   "cell_type": "code",
   "execution_count": null,
   "metadata": {},
   "outputs": [],
   "source": [
    "# We got an impressive 98% accuracy on our model."
   ]
  }
 ],
 "metadata": {
  "kernelspec": {
   "display_name": "Python 3",
   "language": "python",
   "name": "python3"
  },
  "language_info": {
   "codemirror_mode": {
    "name": "ipython",
    "version": 3
   },
   "file_extension": ".py",
   "mimetype": "text/x-python",
   "name": "python",
   "nbconvert_exporter": "python",
   "pygments_lexer": "ipython3",
   "version": "3.6.9"
  }
 },
 "nbformat": 4,
 "nbformat_minor": 4
}
